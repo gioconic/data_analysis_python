{
 "cells": [
  {
   "cell_type": "markdown",
   "id": "9bf019fa",
   "metadata": {},
   "source": [
    "# My Jupyter Notebook on IBM Watson Studio"
   ]
  },
  {
   "cell_type": "markdown",
   "id": "0b647be9",
   "metadata": {},
   "source": [
    "Name: <b>Giovanni García Buitrago</b> <br>\n",
    "Desired ocupation: Data Scientist"
   ]
  },
  {
   "cell_type": "markdown",
   "id": "69db1aee",
   "metadata": {},
   "source": [
    "<i>I am interested in data science because it has different fields of action, and the one that I'm most interested in is in the medicine field, with the potential early prevention of diseases with images recognition</i><br>\n",
    "<i>I am also interested because it fits the way I enjoy working, and that's doing some 'solo work' and the sharing results with others, asking questions, comparing conclussions, adding value,</i>"
   ]
  },
  {
   "cell_type": "markdown",
   "id": "4e15fc52",
   "metadata": {},
   "source": [
    "### In the next cell, we are going to importing numpy library, creating an array with it and print the array:"
   ]
  },
  {
   "cell_type": "code",
   "execution_count": 2,
   "id": "9ebf2f0a",
   "metadata": {},
   "outputs": [
    {
     "name": "stdout",
     "output_type": "stream",
     "text": [
      "['Python' 'SQL' 'R']\n"
     ]
    }
   ],
   "source": [
    "import numpy as np\n",
    "\n",
    "ds_tools = np.array(['Python', 'SQL', 'R'])\n",
    "print(ds_toolstools)"
   ]
  },
  {
   "cell_type": "markdown",
   "id": "8a0cff4e",
   "metadata": {},
   "source": [
    "## <font color=crimson>Different markdown elements:</font><br>\n",
    "\n",
    "<b>Table:</b>\n",
    "\n",
    "|Machine Learning |\tDeep Learning|\n",
    "|:-|-:|\n",
    "|A subset of artificial intelligence that uses techniques (such as algorithms) to learn from data and make predictions.|A subset of machine learning that’s based on artificial neural networks that mimic the learning process of the human brain.|\n",
    "|Uses structured data (such as numbers, categories, labels) as input. | Uses unstructured data (such as images, text, audio) as input.|\n",
    "|Requires more human intervention (such as feature engineering, hyperparameter tuning) to achieve optimal results. | Requires less human intervention (such as feature extraction, network architecture) to achieve optimal results.|\n",
    "|Works well with small or medium-sized datasets. | Works well with large or complex datasets.|\n",
    "\n",
    "---\n",
    "<br>\n",
    "<br>\n",
    "<b>Hyperlinks:</b><br>\n",
    "<a href='https://developer.ibm.com/exchanges/data/'>IBM Data Asset eXchange</a><br>\n",
    "<a href='http://ml-exchange.org/models/'>Machine Learning eXchange</a><br>\n",
    "\n",
    "---\n",
    "<br>\n",
    "<br>\n",
    "<b>Blocked quote:</b><br>\n",
    "\n",
    "> “Machine learning will automate jobs that most people thought could only be done by people.” <br>~Dave Waters.\n",
    "\n",
    "---\n",
    "<br>\n",
    "<br>\n",
    "<b>Numbered list - Data Science Characteristics:</b><br>\n",
    "\n",
    "    1. It involves asking the correct questions and analyzing the raw data.\n",
    "    2. It uses statistics, computer science, and machine learning algorithms to gain insights from structured and unstructured data.\n",
    "    3. It visualizes the data to get a better perspective and understanding.\n",
    "    4. It applies domain knowledge and business skills to make better decisions and find solutions.\n",
    "    5. It requires technical acumen, statistical thinking, multi-modal communication, curiosity, creativity, and collaboration skills.\n",
    "\n",
    "---\n",
    "<br>\n",
    "<br>\n",
    "<s>strikethrough</s><br>\n",
    "\n",
    "---\n",
    "<br>\n",
    "<br>\n",
    "<b>Code highlighted:</b><br>\n",
    "\n",
    "   <code>s = \"Python syntax highlighting\"</code><br>\n",
    "   <code>print s</code>\n",
    "    \n",
    "\n",
    "---\n",
    "<br>\n",
    "<br>\n",
    "<b>Image:</b><br>\n",
    "\n",
    "\n",
    "<img src=\"https://rb.gy/sd3mt4\" alt=\"Coursera Logo\" title=\"Coursera Logo\" />"
   ]
  },
  {
   "cell_type": "code",
   "execution_count": null,
   "id": "6356022c",
   "metadata": {},
   "outputs": [],
   "source": []
  }
 ],
 "metadata": {
  "kernelspec": {
   "display_name": "Python 3 (ipykernel)",
   "language": "python",
   "name": "python3"
  },
  "language_info": {
   "codemirror_mode": {
    "name": "ipython",
    "version": 3
   },
   "file_extension": ".py",
   "mimetype": "text/x-python",
   "name": "python",
   "nbconvert_exporter": "python",
   "pygments_lexer": "ipython3",
   "version": "3.9.13"
  }
 },
 "nbformat": 4,
 "nbformat_minor": 5
}
